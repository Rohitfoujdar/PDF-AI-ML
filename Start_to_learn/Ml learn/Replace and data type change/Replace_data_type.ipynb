{
 "cells": [
  {
   "cell_type": "code",
   "execution_count": 2,
   "metadata": {},
   "outputs": [],
   "source": [
    "import pandas as pd"
   ]
  },
  {
   "cell_type": "code",
   "execution_count": 3,
   "metadata": {},
   "outputs": [],
   "source": [
    "dataset = pd.read_csv(\"Bank_data.csv\")"
   ]
  },
  {
   "cell_type": "code",
   "execution_count": 4,
   "metadata": {},
   "outputs": [
    {
     "data": {
      "text/html": [
       "<div>\n",
       "<style scoped>\n",
       "    .dataframe tbody tr th:only-of-type {\n",
       "        vertical-align: middle;\n",
       "    }\n",
       "\n",
       "    .dataframe tbody tr th {\n",
       "        vertical-align: top;\n",
       "    }\n",
       "\n",
       "    .dataframe thead th {\n",
       "        text-align: right;\n",
       "    }\n",
       "</style>\n",
       "<table border=\"1\" class=\"dataframe\">\n",
       "  <thead>\n",
       "    <tr style=\"text-align: right;\">\n",
       "      <th></th>\n",
       "      <th>loan_id</th>\n",
       "      <th>married</th>\n",
       "      <th>gender</th>\n",
       "      <th>dependency</th>\n",
       "      <th>Self_Employee</th>\n",
       "      <th>Applicant</th>\n",
       "      <th>coapplicant</th>\n",
       "      <th>Loan_amount</th>\n",
       "      <th>creadit_his</th>\n",
       "      <th>propert</th>\n",
       "      <th>loan_status</th>\n",
       "    </tr>\n",
       "  </thead>\n",
       "  <tbody>\n",
       "    <tr>\n",
       "      <th>0</th>\n",
       "      <td>LN1000</td>\n",
       "      <td>Yes</td>\n",
       "      <td>Female</td>\n",
       "      <td>0</td>\n",
       "      <td>Yes</td>\n",
       "      <td>17154.0</td>\n",
       "      <td>13688.0</td>\n",
       "      <td>133487.0</td>\n",
       "      <td>0.0</td>\n",
       "      <td>Rural</td>\n",
       "      <td>Rejected</td>\n",
       "    </tr>\n",
       "    <tr>\n",
       "      <th>1</th>\n",
       "      <td>LN1001</td>\n",
       "      <td>Yes</td>\n",
       "      <td>Male</td>\n",
       "      <td>0</td>\n",
       "      <td>Yes</td>\n",
       "      <td>NaN</td>\n",
       "      <td>2995.0</td>\n",
       "      <td>50849.0</td>\n",
       "      <td>1.0</td>\n",
       "      <td>Urban</td>\n",
       "      <td>Rejected</td>\n",
       "    </tr>\n",
       "    <tr>\n",
       "      <th>2</th>\n",
       "      <td>LN1002</td>\n",
       "      <td>Yes</td>\n",
       "      <td>Male</td>\n",
       "      <td>1</td>\n",
       "      <td>No</td>\n",
       "      <td>21923.0</td>\n",
       "      <td>3046.0</td>\n",
       "      <td>85520.0</td>\n",
       "      <td>0.0</td>\n",
       "      <td>Semiurban</td>\n",
       "      <td>Rejected</td>\n",
       "    </tr>\n",
       "    <tr>\n",
       "      <th>3</th>\n",
       "      <td>LN1003</td>\n",
       "      <td>NaN</td>\n",
       "      <td>Female</td>\n",
       "      <td>3+</td>\n",
       "      <td>No</td>\n",
       "      <td>19718.0</td>\n",
       "      <td>14947.0</td>\n",
       "      <td>NaN</td>\n",
       "      <td>1.0</td>\n",
       "      <td>Rural</td>\n",
       "      <td>Rejected</td>\n",
       "    </tr>\n",
       "    <tr>\n",
       "      <th>4</th>\n",
       "      <td>LN1004</td>\n",
       "      <td>Yes</td>\n",
       "      <td>Female</td>\n",
       "      <td>3+</td>\n",
       "      <td>Yes</td>\n",
       "      <td>9636.0</td>\n",
       "      <td>319.0</td>\n",
       "      <td>299794.0</td>\n",
       "      <td>0.0</td>\n",
       "      <td>Rural</td>\n",
       "      <td>Rejected</td>\n",
       "    </tr>\n",
       "  </tbody>\n",
       "</table>\n",
       "</div>"
      ],
      "text/plain": [
       "  loan_id married  gender dependency Self_Employee  Applicant  coapplicant  \\\n",
       "0  LN1000     Yes  Female          0           Yes    17154.0      13688.0   \n",
       "1  LN1001     Yes    Male          0           Yes        NaN       2995.0   \n",
       "2  LN1002     Yes    Male          1            No    21923.0       3046.0   \n",
       "3  LN1003     NaN  Female         3+            No    19718.0      14947.0   \n",
       "4  LN1004     Yes  Female         3+           Yes     9636.0        319.0   \n",
       "\n",
       "   Loan_amount  creadit_his    propert loan_status  \n",
       "0     133487.0          0.0      Rural    Rejected  \n",
       "1      50849.0          1.0      Urban    Rejected  \n",
       "2      85520.0          0.0  Semiurban    Rejected  \n",
       "3          NaN          1.0      Rural    Rejected  \n",
       "4     299794.0          0.0      Rural    Rejected  "
      ]
     },
     "execution_count": 4,
     "metadata": {},
     "output_type": "execute_result"
    }
   ],
   "source": [
    "dataset.head()"
   ]
  },
  {
   "cell_type": "code",
   "execution_count": 5,
   "metadata": {},
   "outputs": [
    {
     "name": "stdout",
     "output_type": "stream",
     "text": [
      "<class 'pandas.core.frame.DataFrame'>\n",
      "RangeIndex: 618 entries, 0 to 617\n",
      "Data columns (total 11 columns):\n",
      " #   Column         Non-Null Count  Dtype  \n",
      "---  ------         --------------  -----  \n",
      " 0   loan_id        618 non-null    object \n",
      " 1   married        595 non-null    object \n",
      " 2   gender         586 non-null    object \n",
      " 3   dependency     601 non-null    object \n",
      " 4   Self_Employee  593 non-null    object \n",
      " 5   Applicant      580 non-null    float64\n",
      " 6   coapplicant    591 non-null    float64\n",
      " 7   Loan_amount    586 non-null    float64\n",
      " 8   creadit_his    592 non-null    float64\n",
      " 9   propert        591 non-null    object \n",
      " 10  loan_status    593 non-null    object \n",
      "dtypes: float64(4), object(7)\n",
      "memory usage: 53.2+ KB\n"
     ]
    }
   ],
   "source": [
    "dataset.info()"
   ]
  },
  {
   "cell_type": "code",
   "execution_count": 6,
   "metadata": {},
   "outputs": [
    {
     "data": {
      "text/plain": [
       "loan_id           0\n",
       "married          23\n",
       "gender           32\n",
       "dependency       17\n",
       "Self_Employee    25\n",
       "Applicant        38\n",
       "coapplicant      27\n",
       "Loan_amount      32\n",
       "creadit_his      26\n",
       "propert          27\n",
       "loan_status      25\n",
       "dtype: int64"
      ]
     },
     "execution_count": 6,
     "metadata": {},
     "output_type": "execute_result"
    }
   ],
   "source": [
    "dataset.isnull().sum()"
   ]
  },
  {
   "cell_type": "code",
   "execution_count": 11,
   "metadata": {},
   "outputs": [
    {
     "data": {
      "text/plain": [
       "dependency\n",
       "1    179\n",
       "2    159\n",
       "0    141\n",
       "3    139\n",
       "Name: count, dtype: Int64"
      ]
     },
     "execution_count": 11,
     "metadata": {},
     "output_type": "execute_result"
    }
   ],
   "source": [
    "dataset[\"dependency\"].value_counts() #Find the most common dependency"
   ]
  },
  {
   "cell_type": "code",
   "execution_count": 8,
   "metadata": {},
   "outputs": [
    {
     "name": "stderr",
     "output_type": "stream",
     "text": [
      "C:\\Users\\lenovo\\anaconda3\\ipykernel_9800\\4009100884.py:1: FutureWarning: A value is trying to be set on a copy of a DataFrame or Series through chained assignment using an inplace method.\n",
      "The behavior will change in pandas 3.0. This inplace method will never work because the intermediate object on which we are setting values always behaves as a copy.\n",
      "\n",
      "For example, when doing 'df[col].method(value, inplace=True)', try using 'df.method({col: value}, inplace=True)' or df[col] = df[col].method(value) instead, to perform the operation inplace on the original object.\n",
      "\n",
      "\n",
      "  dataset[\"dependency\"].fillna(dataset[\"dependency\"].mode()[0] , inplace=True)\n"
     ]
    }
   ],
   "source": [
    "dataset[\"dependency\"].fillna(dataset[\"dependency\"].mode()[0] , inplace=True)"
   ]
  },
  {
   "cell_type": "code",
   "execution_count": 9,
   "metadata": {},
   "outputs": [],
   "source": [
    "dataset[\"dependency\"].replace(\"3+\", \"3\", inplace=True) #Replace \"3+\" with \"3\""
   ]
  },
  {
   "cell_type": "code",
   "execution_count": 10,
   "metadata": {},
   "outputs": [],
   "source": [
    "dataset[\"dependency\"] = dataset[\"dependency\"].astype(\"Int64\") # convert to int64"
   ]
  },
  {
   "cell_type": "code",
   "execution_count": null,
   "metadata": {},
   "outputs": [],
   "source": []
  }
 ],
 "metadata": {
  "kernelspec": {
   "display_name": "Python 3",
   "language": "python",
   "name": "python3"
  },
  "language_info": {
   "codemirror_mode": {
    "name": "ipython",
    "version": 3
   },
   "file_extension": ".py",
   "mimetype": "text/x-python",
   "name": "python",
   "nbconvert_exporter": "python",
   "pygments_lexer": "ipython3",
   "version": "3.13.2"
  }
 },
 "nbformat": 4,
 "nbformat_minor": 2
}
