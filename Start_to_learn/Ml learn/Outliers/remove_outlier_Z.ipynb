{
 "cells": [
  {
   "cell_type": "code",
   "execution_count": 1,
   "metadata": {},
   "outputs": [],
   "source": [
    "import pandas as pd\n",
    "import seaborn as sns\n",
    "import matplotlib.pyplot as plt"
   ]
  },
  {
   "cell_type": "code",
   "execution_count": 21,
   "metadata": {},
   "outputs": [],
   "source": [
    "data = pd.read_csv(\"Bank_data.csv\")"
   ]
  },
  {
   "cell_type": "code",
   "execution_count": 22,
   "metadata": {},
   "outputs": [
    {
     "data": {
      "text/html": [
       "<div>\n",
       "<style scoped>\n",
       "    .dataframe tbody tr th:only-of-type {\n",
       "        vertical-align: middle;\n",
       "    }\n",
       "\n",
       "    .dataframe tbody tr th {\n",
       "        vertical-align: top;\n",
       "    }\n",
       "\n",
       "    .dataframe thead th {\n",
       "        text-align: right;\n",
       "    }\n",
       "</style>\n",
       "<table border=\"1\" class=\"dataframe\">\n",
       "  <thead>\n",
       "    <tr style=\"text-align: right;\">\n",
       "      <th></th>\n",
       "      <th>loan_id</th>\n",
       "      <th>married</th>\n",
       "      <th>gender</th>\n",
       "      <th>dependency</th>\n",
       "      <th>Self_Employee</th>\n",
       "      <th>Applicant</th>\n",
       "      <th>coapplicant</th>\n",
       "      <th>Loan_amount</th>\n",
       "      <th>creadit_his</th>\n",
       "      <th>propert</th>\n",
       "      <th>loan_status</th>\n",
       "    </tr>\n",
       "  </thead>\n",
       "  <tbody>\n",
       "    <tr>\n",
       "      <th>0</th>\n",
       "      <td>LN1000</td>\n",
       "      <td>Yes</td>\n",
       "      <td>Female</td>\n",
       "      <td>0</td>\n",
       "      <td>Yes</td>\n",
       "      <td>17154.0</td>\n",
       "      <td>13688.0</td>\n",
       "      <td>133487.0</td>\n",
       "      <td>0.0</td>\n",
       "      <td>Rural</td>\n",
       "      <td>Rejected</td>\n",
       "    </tr>\n",
       "    <tr>\n",
       "      <th>1</th>\n",
       "      <td>LN1001</td>\n",
       "      <td>Yes</td>\n",
       "      <td>Male</td>\n",
       "      <td>0</td>\n",
       "      <td>Yes</td>\n",
       "      <td>NaN</td>\n",
       "      <td>2995.0</td>\n",
       "      <td>50849.0</td>\n",
       "      <td>1.0</td>\n",
       "      <td>Urban</td>\n",
       "      <td>Rejected</td>\n",
       "    </tr>\n",
       "    <tr>\n",
       "      <th>2</th>\n",
       "      <td>LN1002</td>\n",
       "      <td>Yes</td>\n",
       "      <td>Male</td>\n",
       "      <td>1</td>\n",
       "      <td>No</td>\n",
       "      <td>21923.0</td>\n",
       "      <td>3046.0</td>\n",
       "      <td>85520.0</td>\n",
       "      <td>0.0</td>\n",
       "      <td>Semiurban</td>\n",
       "      <td>Rejected</td>\n",
       "    </tr>\n",
       "    <tr>\n",
       "      <th>3</th>\n",
       "      <td>LN1003</td>\n",
       "      <td>NaN</td>\n",
       "      <td>Female</td>\n",
       "      <td>3+</td>\n",
       "      <td>No</td>\n",
       "      <td>19718.0</td>\n",
       "      <td>14947.0</td>\n",
       "      <td>NaN</td>\n",
       "      <td>1.0</td>\n",
       "      <td>Rural</td>\n",
       "      <td>Rejected</td>\n",
       "    </tr>\n",
       "  </tbody>\n",
       "</table>\n",
       "</div>"
      ],
      "text/plain": [
       "  loan_id married  gender dependency Self_Employee  Applicant  coapplicant  \\\n",
       "0  LN1000     Yes  Female          0           Yes    17154.0      13688.0   \n",
       "1  LN1001     Yes    Male          0           Yes        NaN       2995.0   \n",
       "2  LN1002     Yes    Male          1            No    21923.0       3046.0   \n",
       "3  LN1003     NaN  Female         3+            No    19718.0      14947.0   \n",
       "\n",
       "   Loan_amount  creadit_his    propert loan_status  \n",
       "0     133487.0          0.0      Rural    Rejected  \n",
       "1      50849.0          1.0      Urban    Rejected  \n",
       "2      85520.0          0.0  Semiurban    Rejected  \n",
       "3          NaN          1.0      Rural    Rejected  "
      ]
     },
     "execution_count": 22,
     "metadata": {},
     "output_type": "execute_result"
    }
   ],
   "source": [
    "data.head(4)"
   ]
  },
  {
   "cell_type": "code",
   "execution_count": 25,
   "metadata": {},
   "outputs": [
    {
     "data": {
      "text/plain": [
       "loan_id           0\n",
       "married          23\n",
       "gender           32\n",
       "dependency       17\n",
       "Self_Employee    25\n",
       "Applicant        38\n",
       "coapplicant       0\n",
       "Loan_amount      32\n",
       "creadit_his      26\n",
       "propert          27\n",
       "loan_status      25\n",
       "dtype: int64"
      ]
     },
     "execution_count": 25,
     "metadata": {},
     "output_type": "execute_result"
    }
   ],
   "source": [
    "data.isnull().sum()"
   ]
  },
  {
   "cell_type": "code",
   "execution_count": 24,
   "metadata": {},
   "outputs": [
    {
     "name": "stderr",
     "output_type": "stream",
     "text": [
      "C:\\Users\\lenovo\\anaconda3\\ipykernel_12316\\2315592551.py:1: FutureWarning: A value is trying to be set on a copy of a DataFrame or Series through chained assignment using an inplace method.\n",
      "The behavior will change in pandas 3.0. This inplace method will never work because the intermediate object on which we are setting values always behaves as a copy.\n",
      "\n",
      "For example, when doing 'df[col].method(value, inplace=True)', try using 'df.method({col: value}, inplace=True)' or df[col] = df[col].method(value) instead, to perform the operation inplace on the original object.\n",
      "\n",
      "\n",
      "  data[\"coapplicant\"].fillna(data[\"coapplicant\"].mode()[0], inplace=True)\n"
     ]
    }
   ],
   "source": [
    "data[\"coapplicant\"].fillna(data[\"coapplicant\"].mode()[0], inplace=True)"
   ]
  },
  {
   "cell_type": "code",
   "execution_count": 26,
   "metadata": {},
   "outputs": [
    {
     "data": {
      "text/html": [
       "<div>\n",
       "<style scoped>\n",
       "    .dataframe tbody tr th:only-of-type {\n",
       "        vertical-align: middle;\n",
       "    }\n",
       "\n",
       "    .dataframe tbody tr th {\n",
       "        vertical-align: top;\n",
       "    }\n",
       "\n",
       "    .dataframe thead th {\n",
       "        text-align: right;\n",
       "    }\n",
       "</style>\n",
       "<table border=\"1\" class=\"dataframe\">\n",
       "  <thead>\n",
       "    <tr style=\"text-align: right;\">\n",
       "      <th></th>\n",
       "      <th>Applicant</th>\n",
       "      <th>coapplicant</th>\n",
       "      <th>Loan_amount</th>\n",
       "      <th>creadit_his</th>\n",
       "    </tr>\n",
       "  </thead>\n",
       "  <tbody>\n",
       "    <tr>\n",
       "      <th>count</th>\n",
       "      <td>580.000000</td>\n",
       "      <td>618.000000</td>\n",
       "      <td>586.000000</td>\n",
       "      <td>592.000000</td>\n",
       "    </tr>\n",
       "    <tr>\n",
       "      <th>mean</th>\n",
       "      <td>13430.308621</td>\n",
       "      <td>7442.606796</td>\n",
       "      <td>281483.752560</td>\n",
       "      <td>0.493243</td>\n",
       "    </tr>\n",
       "    <tr>\n",
       "      <th>std</th>\n",
       "      <td>6379.385567</td>\n",
       "      <td>4247.423432</td>\n",
       "      <td>130467.934829</td>\n",
       "      <td>0.500377</td>\n",
       "    </tr>\n",
       "    <tr>\n",
       "      <th>min</th>\n",
       "      <td>2001.000000</td>\n",
       "      <td>35.000000</td>\n",
       "      <td>50613.000000</td>\n",
       "      <td>0.000000</td>\n",
       "    </tr>\n",
       "    <tr>\n",
       "      <th>25%</th>\n",
       "      <td>8171.500000</td>\n",
       "      <td>3505.500000</td>\n",
       "      <td>168083.250000</td>\n",
       "      <td>0.000000</td>\n",
       "    </tr>\n",
       "    <tr>\n",
       "      <th>50%</th>\n",
       "      <td>13589.000000</td>\n",
       "      <td>7553.500000</td>\n",
       "      <td>291088.000000</td>\n",
       "      <td>0.000000</td>\n",
       "    </tr>\n",
       "    <tr>\n",
       "      <th>75%</th>\n",
       "      <td>18613.000000</td>\n",
       "      <td>11008.500000</td>\n",
       "      <td>397510.000000</td>\n",
       "      <td>1.000000</td>\n",
       "    </tr>\n",
       "    <tr>\n",
       "      <th>max</th>\n",
       "      <td>24852.000000</td>\n",
       "      <td>14974.000000</td>\n",
       "      <td>497045.000000</td>\n",
       "      <td>1.000000</td>\n",
       "    </tr>\n",
       "  </tbody>\n",
       "</table>\n",
       "</div>"
      ],
      "text/plain": [
       "          Applicant   coapplicant    Loan_amount  creadit_his\n",
       "count    580.000000    618.000000     586.000000   592.000000\n",
       "mean   13430.308621   7442.606796  281483.752560     0.493243\n",
       "std     6379.385567   4247.423432  130467.934829     0.500377\n",
       "min     2001.000000     35.000000   50613.000000     0.000000\n",
       "25%     8171.500000   3505.500000  168083.250000     0.000000\n",
       "50%    13589.000000   7553.500000  291088.000000     0.000000\n",
       "75%    18613.000000  11008.500000  397510.000000     1.000000\n",
       "max    24852.000000  14974.000000  497045.000000     1.000000"
      ]
     },
     "execution_count": 26,
     "metadata": {},
     "output_type": "execute_result"
    }
   ],
   "source": [
    "data.describe()"
   ]
  },
  {
   "cell_type": "code",
   "execution_count": 27,
   "metadata": {},
   "outputs": [
    {
     "data": {
      "text/plain": [
       "<Axes: xlabel='coapplicant'>"
      ]
     },
     "execution_count": 27,
     "metadata": {},
     "output_type": "execute_result"
    },
    {
     "data": {
      "image/png": "[encoded data removed]",
      "text/plain": [
       "<Figure size 640x480 with 1 Axes>"
      ]
     },
     "metadata": {},
     "output_type": "display_data"
    }
   ],
   "source": [
    "sns.boxplot(x=\"coapplicant\", data=data)"
   ]
  },
  {
   "cell_type": "code",
   "execution_count": null,
   "metadata": {},
   "outputs": [],
   "source": []
  }
 ],
 "metadata": {
  "kernelspec": {
   "display_name": "Python 3",
   "language": "python",
   "name": "python3"
  },
  "language_info": {
   "codemirror_mode": {
    "name": "ipython",
    "version": 3
   },
   "file_extension": ".py",
   "mimetype": "text/x-python",
   "name": "python",
   "nbconvert_exporter": "python",
   "pygments_lexer": "ipython3",
   "version": "3.13.2"
  }
 },
 "nbformat": 4,
 "nbformat_minor": 2
}
