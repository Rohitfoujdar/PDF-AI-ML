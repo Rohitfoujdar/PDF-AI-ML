{
 "cells": [
  {
   "cell_type": "code",
   "execution_count": 1,
   "id": "02a5d30e",
   "metadata": {},
   "outputs": [],
   "source": [
    "import pandas as pd\n",
    "import numpy as np\n",
    "import seaborn as sns\n",
    "import matplotlib.pyplot as plt\n",
    "from sklearn.datasets import make_blobs\n",
    "from sklearn.cluster import KMeans\n",
    "from sklearn.metrics import silhouette_score"
   ]
  },
  {
   "cell_type": "code",
   "execution_count": 2,
   "id": "1227fd1c",
   "metadata": {},
   "outputs": [],
   "source": [
    "X, y_true = make_blobs(n_samples=300, centers=4, cluster_std=0.60, random_state=42)\n"
   ]
  },
  {
   "cell_type": "code",
   "execution_count": 3,
   "id": "d4cf1bc5",
   "metadata": {},
   "outputs": [
    {
     "data": {
      "text/plain": [
       "(array([[ -9.1139443 ,   6.81361629],\n",
       "        [ -9.35457578,   7.09278959],\n",
       "        [ -2.01567068,   8.28177994],\n",
       "        [ -7.01023591,  -6.22084348],\n",
       "        [-10.06120248,   6.71867113],\n",
       "        [ -6.36503142,  -6.97607271],\n",
       "        [  4.74378739,   2.20436011],\n",
       "        [ -6.63186832,  -7.21834432],\n",
       "        [ -2.79670217,   8.90289074],\n",
       "        [  3.92509674,   2.36710185],\n",
       "        [ -2.87022159,  10.12565304],\n",
       "        [  4.85408813,   1.55742393],\n",
       "        [ -2.38387947,   7.83848405],\n",
       "        [ -3.35842007,   8.76189893],\n",
       "        [ -9.2287133 ,   7.03124769],\n",
       "        [ -2.93042948,   8.81768884],\n",
       "        [ -9.81485322,   7.35237388],\n",
       "        [  3.42479328,   2.08504227],\n",
       "        [ -2.45095109,   9.59547312],\n",
       "        [ -2.15708337,  10.3285595 ],\n",
       "        [  5.33503618,   1.48076029],\n",
       "        [ -2.60596905,   9.25671664],\n",
       "        [ -6.29455535,  -6.96834402],\n",
       "        [ -8.90572459,   7.19094116],\n",
       "        [ -2.78724824,   8.73484828],\n",
       "        [ -8.52044525,   8.18846409],\n",
       "        [ -9.18439055,   7.77675765],\n",
       "        [ -7.3705596 ,  -5.62467723],\n",
       "        [ -6.88697525,  -7.41846222],\n",
       "        [  4.10617018,   1.48368351],\n",
       "        [ -3.10351942,   8.67450749],\n",
       "        [  3.99734334,   2.26265313],\n",
       "        [ -8.34012627,   6.80987262],\n",
       "        [  4.76833508,   1.22572642],\n",
       "        [ -9.74744239,   8.14364748],\n",
       "        [ -2.37272166,   9.79857178],\n",
       "        [ -8.38413459,   6.77022372],\n",
       "        [ -6.73264725,  -7.1842755 ],\n",
       "        [ -8.90254597,   6.70237752],\n",
       "        [ -6.67457361,  -5.75440709],\n",
       "        [  5.40002553,   1.548568  ],\n",
       "        [ -2.35466739,   8.96961858],\n",
       "        [ -9.13089149,   7.063988  ],\n",
       "        [ -6.9483511 ,  -6.13741981],\n",
       "        [ -2.53002468,   8.31307931],\n",
       "        [ -2.29236026,   9.93710807],\n",
       "        [ -8.79538801,   7.03692845],\n",
       "        [  4.34866071,   2.02229417],\n",
       "        [ -8.63576616,   7.07639674],\n",
       "        [  5.59148893,   1.23048038],\n",
       "        [ -6.83414446,  -7.28640662],\n",
       "        [ -8.84311134,   8.2114894 ],\n",
       "        [ -6.65966824,  -7.44403747],\n",
       "        [ -1.6224612 ,   8.703324  ],\n",
       "        [ -6.17204888,  -6.8395985 ],\n",
       "        [  4.94890745,   4.28480858],\n",
       "        [ -8.60165647,   7.07093223],\n",
       "        [  5.21790451,   2.22083824],\n",
       "        [  4.70798924,   2.37044809],\n",
       "        [ -2.78558089,   9.64855946],\n",
       "        [ -8.69695902,   7.78604203],\n",
       "        [  5.91969886,   0.801917  ],\n",
       "        [  5.17963876,   2.1575494 ],\n",
       "        [ -6.99099927,   7.99526786],\n",
       "        [ -7.02900568,  -6.29716702],\n",
       "        [ -7.41867599,  -6.58495809],\n",
       "        [ -7.31069372,  -7.00817788],\n",
       "        [ -6.45265826,  -7.55489485],\n",
       "        [ -7.90165665,  -6.91343821],\n",
       "        [ -3.14657985,   9.29844159],\n",
       "        [ -6.09633991,  -6.86750729],\n",
       "        [ -6.2445725 ,  -7.93535329],\n",
       "        [ -9.25816306,   7.45191086],\n",
       "        [  4.92382141,   1.92947234],\n",
       "        [ -2.74446251,   8.13617716],\n",
       "        [ -8.67605366,   7.29338005],\n",
       "        [ -8.12009245,  -6.93358162],\n",
       "        [ -7.33510679,  -6.78987332],\n",
       "        [ -2.86958084,   8.83926988],\n",
       "        [ -6.17196312,  -7.16161498],\n",
       "        [ -3.1168963 ,   9.20283453],\n",
       "        [ -2.5524037 ,   9.61640587],\n",
       "        [ -8.53777744,   6.73698977],\n",
       "        [ -2.31043956,   9.5996132 ],\n",
       "        [ -6.30937289,  -7.22625179],\n",
       "        [ -8.33691249,   6.6456988 ],\n",
       "        [ -8.13765852,   7.47617542],\n",
       "        [  5.75934354,   2.25746944],\n",
       "        [  5.69915138,   2.21615871],\n",
       "        [  3.81327722,   1.41047466],\n",
       "        [ -9.83997093,   7.64953903],\n",
       "        [ -2.53069325,   9.95307232],\n",
       "        [ -8.55093986,   7.52372018],\n",
       "        [ -1.95995635,   9.21153679],\n",
       "        [ -2.82705375,   9.32224659],\n",
       "        [ -9.17051734,   6.60479618],\n",
       "        [ -7.52019945,  -6.96553728],\n",
       "        [ -2.35326795,   9.48337985],\n",
       "        [ -9.29628325,   6.24059366],\n",
       "        [ -8.59026681,   8.4496004 ],\n",
       "        [  4.35491165,   1.58117214],\n",
       "        [  4.85455125,   2.3096404 ],\n",
       "        [  4.51500549,   1.67736912],\n",
       "        [ -2.03457845,   8.46865366],\n",
       "        [ -3.01272814,   8.8287587 ],\n",
       "        [ -2.36402026,   7.86631798],\n",
       "        [ -2.30302665,   7.95646203],\n",
       "        [ -2.35890191,   9.22215505],\n",
       "        [ -5.58771772,  -7.34051813],\n",
       "        [ -9.6774683 ,   7.66130446],\n",
       "        [  5.05163495,   1.00554016],\n",
       "        [ -2.9791496 ,   8.82104922],\n",
       "        [ -2.99429378,   8.7132319 ],\n",
       "        [ -2.4686807 ,   8.15943722],\n",
       "        [ -2.51729596,   8.37965957],\n",
       "        [  4.75931465,   1.61303956],\n",
       "        [ -9.46067545,   7.20931971],\n",
       "        [ -7.90750791,  -6.06778617],\n",
       "        [ -9.96080291,   7.11261483],\n",
       "        [ -7.48323762,  -7.60862276],\n",
       "        [ -6.56801928,  -5.96046625],\n",
       "        [ -6.7451717 ,  -6.87255415],\n",
       "        [ -1.66752104,   8.17317549],\n",
       "        [ -8.49239358,   7.51027301],\n",
       "        [ -6.68023878,  -7.32920152],\n",
       "        [ -8.91507831,   6.75019865],\n",
       "        [ -8.46982774,   7.77802754],\n",
       "        [ -2.91535082,   9.3812919 ],\n",
       "        [ -8.21580379,   7.01751308],\n",
       "        [ -7.19778176,  -7.35583329],\n",
       "        [  5.28970958,   2.60545092],\n",
       "        [ -3.66046035,   8.9983778 ],\n",
       "        [ -2.45414116,   7.82174478],\n",
       "        [ -3.54414832,   8.67691361],\n",
       "        [ -3.39631082,   8.5823796 ],\n",
       "        [  4.9428712 ,   2.4926228 ],\n",
       "        [  4.48833795,   1.22449977],\n",
       "        [ -9.00025272,   6.73626469],\n",
       "        [ -2.50612955,   8.87353385],\n",
       "        [ -7.18794734,  -7.51563771],\n",
       "        [ -2.79088225,   9.33982215],\n",
       "        [  4.49264597,   1.52092799],\n",
       "        [ -5.64317844,  -5.82690509],\n",
       "        [ -2.45696938,   8.83488172],\n",
       "        [  3.72825686,   1.68262924],\n",
       "        [  4.21069661,   2.38092833],\n",
       "        [  5.12759611,   2.35094699],\n",
       "        [  4.80589332,   2.46947963],\n",
       "        [ -6.11302825,  -7.23505243],\n",
       "        [ -2.91721246,   9.15363835],\n",
       "        [ -3.05401207,   8.16690391],\n",
       "        [ -7.65949268,   7.34468105],\n",
       "        [  4.80847396,   1.59954997],\n",
       "        [ -7.80009569,  -6.1135035 ],\n",
       "        [ -2.33152546,   9.17091929],\n",
       "        [  3.91970099,   1.77246894],\n",
       "        [ -6.89073507,  -7.05330478],\n",
       "        [ -9.15662845,   6.97803197],\n",
       "        [ -8.45517228,   6.32661088],\n",
       "        [  4.10956437,   2.06540475],\n",
       "        [ -4.08104469,   9.50742763],\n",
       "        [ -9.36369871,   6.49384308],\n",
       "        [ -5.94893601,  -6.81070481],\n",
       "        [ -8.1175994 ,   7.07867769],\n",
       "        [  4.67480407,   1.28738751],\n",
       "        [ -8.31565293,   7.1279088 ],\n",
       "        [ -7.16225017,  -6.74087963],\n",
       "        [ -2.4730595 ,  10.4922314 ],\n",
       "        [ -2.19603268,   9.19247693],\n",
       "        [ -2.02108729,   8.27576754],\n",
       "        [ -1.82350393,   9.46544595],\n",
       "        [ -3.06085216,   9.94424677],\n",
       "        [ -7.3834603 ,  -7.23974518],\n",
       "        [  4.37196986,   2.48700896],\n",
       "        [  4.05097365,   2.25043177],\n",
       "        [ -6.86492109,  -6.58131062],\n",
       "        [ -6.35623481,  -6.77010439],\n",
       "        [  4.48108474,   3.60527118],\n",
       "        [  5.91317255,   2.59264884],\n",
       "        [ -6.5051553 ,  -6.50310229],\n",
       "        [ -8.78637388,   7.23011657],\n",
       "        [ -2.83582726,   9.08083968],\n",
       "        [ -9.23590201,   7.66588212],\n",
       "        [  5.61932562,   1.11508486],\n",
       "        [  4.98241314,   2.65450907],\n",
       "        [-10.32131446,   6.84538576],\n",
       "        [ -6.68512738,  -6.95819543],\n",
       "        [ -1.62980836,   8.87882035],\n",
       "        [  2.69511843,   1.3585371 ],\n",
       "        [  4.37585214,   2.05161403],\n",
       "        [ -6.91723465,  -6.3070242 ],\n",
       "        [ -5.90245786,  -7.70817047],\n",
       "        [ -7.37492551,  -7.0729411 ],\n",
       "        [ -9.80219555,   7.4456011 ],\n",
       "        [  4.20165886,   2.10304484],\n",
       "        [ -7.67176712,  -5.78123433],\n",
       "        [ -6.89103692,  -7.48162721],\n",
       "        [  5.92624529,   2.3535211 ],\n",
       "        [  4.05506983,   2.44542045],\n",
       "        [ -8.729208  ,   7.47245527],\n",
       "        [ -2.06611768,   9.1171071 ],\n",
       "        [ -2.57858659,   8.83362391],\n",
       "        [ -7.37295943,  -6.73389727],\n",
       "        [  4.28625998,   2.48293094],\n",
       "        [ -2.02168213,   9.82803015],\n",
       "        [ -6.69308265,  -5.99489586],\n",
       "        [ -7.47106282,  -6.57768168],\n",
       "        [ -9.22627149,   6.67459411],\n",
       "        [ -6.82142961,  -6.52301538],\n",
       "        [ -2.29221601,   8.62721428],\n",
       "        [ -2.4494068 ,   8.71220074],\n",
       "        [ -7.45858127,  -6.46847872],\n",
       "        [ -6.00894103,  -6.3045471 ],\n",
       "        [  3.88334846,   2.52388685],\n",
       "        [ -8.80921478,   6.82495285],\n",
       "        [ -5.97821296,  -6.83565273],\n",
       "        [ -8.45865864,   8.68593863],\n",
       "        [ -8.49208448,   7.20169568],\n",
       "        [ -3.25136805,   8.22201216],\n",
       "        [ -9.00335877,   5.94237022],\n",
       "        [ -8.34068441,   5.99684173],\n",
       "        [ -8.15396463,  -7.19556261],\n",
       "        [ -9.2921382 ,   6.47017069],\n",
       "        [ -7.66230889,  -6.47830606],\n",
       "        [  4.64767997,   2.84529013],\n",
       "        [  4.16436639,   1.90432782],\n",
       "        [ -9.10490371,   7.54990321],\n",
       "        [ -7.82604278,   7.85250677],\n",
       "        [  4.45071729,   2.42855122],\n",
       "        [  4.59361781,   2.17786087],\n",
       "        [  5.13311493,   3.11124547],\n",
       "        [ -8.28262123,   8.4691729 ],\n",
       "        [ -2.71482633,   8.53291977],\n",
       "        [ -7.5895823 ,  -8.1036489 ],\n",
       "        [  4.66722194,   1.58220948],\n",
       "        [ -6.47045541,  -7.06626965],\n",
       "        [ -9.22942942,   7.35196212],\n",
       "        [  4.62733788,   2.04356611],\n",
       "        [ -7.85134713,   7.17410129],\n",
       "        [ -8.87797564,   6.5969132 ],\n",
       "        [ -8.66446284,   8.56876339],\n",
       "        [ -6.68599605,  -7.37644816],\n",
       "        [ -6.18476067,  -6.40511198],\n",
       "        [  5.01527924,   1.45887515],\n",
       "        [ -7.92445331,   7.64686894],\n",
       "        [ -7.83628379,  -7.23973461],\n",
       "        [ -6.4655408 ,  -7.12084188],\n",
       "        [ -6.87648097,  -6.85192124],\n",
       "        [ -8.68249426,   6.78093294],\n",
       "        [ -6.55136876,  -7.00142518],\n",
       "        [ -8.61564023,   6.9611318 ],\n",
       "        [ -6.94488328,  -6.63908256],\n",
       "        [ -9.19376411,   6.80512845],\n",
       "        [  6.02867398,   0.85281057],\n",
       "        [ -5.56574543,  -7.36508856],\n",
       "        [ -8.64217133,   7.1920626 ],\n",
       "        [  4.08372055,   1.93745447],\n",
       "        [ -3.30610925,   9.13240287],\n",
       "        [ -9.7254795 ,   8.00977534],\n",
       "        [ -2.33335414,   8.58567528],\n",
       "        [  4.50580117,   2.40156998],\n",
       "        [ -1.89059791,   9.5730542 ],\n",
       "        [ -8.79190677,   6.80675239],\n",
       "        [ -3.43959568,   9.05542391],\n",
       "        [ -6.38437738,  -6.39200381],\n",
       "        [  4.24280696,   2.48462968],\n",
       "        [ -6.80744981,  -6.57144629],\n",
       "        [  4.68176009,   1.74198153],\n",
       "        [  5.088255  ,   2.33939184],\n",
       "        [ -2.6246142 ,   9.19521453],\n",
       "        [ -1.56166993,   9.47474697],\n",
       "        [ -6.82102153,  -7.34391546],\n",
       "        [  4.35671972,   2.62654004],\n",
       "        [  4.9489    ,   2.28144125],\n",
       "        [ -8.77872837,   7.77435519],\n",
       "        [ -8.23455207,   6.97738779],\n",
       "        [ -7.04127129,  -6.44958424],\n",
       "        [ -3.17299861,   8.29656215],\n",
       "        [ -1.37748608,   9.11903282],\n",
       "        [  4.13180261,   1.06426135],\n",
       "        [  4.17618371,   1.83107852],\n",
       "        [  4.90617049,   2.43795012],\n",
       "        [  5.50464281,   1.11165239],\n",
       "        [ -7.7484778 ,  -7.72458786],\n",
       "        [ -8.63522991,   7.07435017],\n",
       "        [  4.67844685,   1.32652282],\n",
       "        [ -6.49240162,  -6.05893066],\n",
       "        [  5.21227989,   2.36400443],\n",
       "        [  4.54880778,   2.32616001],\n",
       "        [ -6.64918792,  -6.89972644],\n",
       "        [ -2.31474724,   8.78323676],\n",
       "        [ -7.14966647,  -6.50639963],\n",
       "        [  5.33777709,   1.97930952],\n",
       "        [ -2.64100076,   9.22855367],\n",
       "        [ -8.98169658,   6.77898472],\n",
       "        [ -3.19979377,   9.23970494],\n",
       "        [  4.14248183,   1.63706106],\n",
       "        [ -3.47368756,   9.12506644],\n",
       "        [ -8.82727673,   8.3293853 ],\n",
       "        [ -8.3165642 ,   8.13690563]]),\n",
       " array([3, 3, 0, 2, 3, 2, 1, 2, 0, 1, 0, 1, 0, 0, 3, 0, 3, 1, 0, 0, 1, 0,\n",
       "        2, 3, 0, 3, 3, 2, 2, 1, 0, 1, 3, 1, 3, 0, 3, 2, 3, 2, 1, 0, 3, 2,\n",
       "        0, 0, 3, 1, 3, 1, 2, 3, 2, 0, 2, 1, 3, 1, 1, 0, 3, 1, 1, 3, 2, 2,\n",
       "        2, 2, 2, 0, 2, 2, 3, 1, 0, 3, 2, 2, 0, 2, 0, 0, 3, 0, 2, 3, 3, 1,\n",
       "        1, 1, 3, 0, 3, 0, 0, 3, 2, 0, 3, 3, 1, 1, 1, 0, 0, 0, 0, 0, 2, 3,\n",
       "        1, 0, 0, 0, 0, 1, 3, 2, 3, 2, 2, 2, 0, 3, 2, 3, 3, 0, 3, 2, 1, 0,\n",
       "        0, 0, 0, 1, 1, 3, 0, 2, 0, 1, 2, 0, 1, 1, 1, 1, 2, 0, 0, 3, 1, 2,\n",
       "        0, 1, 2, 3, 3, 1, 0, 3, 2, 3, 1, 3, 2, 0, 0, 0, 0, 0, 2, 1, 1, 2,\n",
       "        2, 1, 1, 2, 3, 0, 3, 1, 1, 3, 2, 0, 1, 1, 2, 2, 2, 3, 1, 2, 2, 1,\n",
       "        1, 3, 0, 0, 2, 1, 0, 2, 2, 3, 2, 0, 0, 2, 2, 1, 3, 2, 3, 3, 0, 3,\n",
       "        3, 2, 3, 2, 1, 1, 3, 3, 1, 1, 1, 3, 0, 2, 1, 2, 3, 1, 3, 3, 3, 2,\n",
       "        2, 1, 3, 2, 2, 2, 3, 2, 3, 2, 3, 1, 2, 3, 1, 0, 3, 0, 1, 0, 3, 0,\n",
       "        2, 1, 2, 1, 1, 0, 0, 2, 1, 1, 3, 3, 2, 0, 0, 1, 1, 1, 1, 2, 3, 1,\n",
       "        2, 1, 1, 2, 0, 2, 1, 0, 3, 0, 1, 0, 3, 3]))"
      ]
     },
     "execution_count": 3,
     "metadata": {},
     "output_type": "execute_result"
    }
   ],
   "source": [
    "X , y_true"
   ]
  },
  {
   "cell_type": "code",
   "execution_count": 4,
   "id": "abbea37b",
   "metadata": {},
   "outputs": [],
   "source": [
    "# Step 2: Apply KMeans with K=4\n",
    "kmeans = KMeans(n_clusters=4, init='k-means++', random_state=42)\n",
    "y_kmeans = kmeans.fit_predict(X)"
   ]
  },
  {
   "cell_type": "code",
   "execution_count": 5,
   "id": "ad163d7c",
   "metadata": {},
   "outputs": [],
   "source": [
    "# Step 3: Calculate silhouette score\n",
    "sil_score = silhouette_score(X, y_kmeans)\n"
   ]
  },
  {
   "cell_type": "code",
   "execution_count": 6,
   "id": "0fd6c88b",
   "metadata": {},
   "outputs": [
    {
     "data": {
      "image/png": "[encoded data removed]",
      "text/plain": [
       "<Figure size 800x600 with 1 Axes>"
      ]
     },
     "metadata": {},
     "output_type": "display_data"
    },
    {
     "data": {
      "text/plain": [
       "np.float64(0.8756469540734731)"
      ]
     },
     "execution_count": 6,
     "metadata": {},
     "output_type": "execute_result"
    }
   ],
   "source": [
    "# Step 4: Plot clusters and centroids\n",
    "plt.figure(figsize=(8, 6))\n",
    "plt.scatter(X[:, 0], X[:, 1], c=y_kmeans, s=100, cmap='viridis')\n",
    "plt.scatter(kmeans.cluster_centers_[:, 0], kmeans.cluster_centers_[:, 1], \n",
    "            s=300, c='red', marker='X', label='Centroids')\n",
    "plt.title(\"K-Means Clustering Example (K=4)\")\n",
    "plt.xlabel(\"Feature 1\")\n",
    "plt.ylabel(\"Feature 2\")\n",
    "plt.legend()\n",
    "plt.grid(True)\n",
    "plt.show()\n",
    "\n",
    "sil_score"
   ]
  },
  {
   "cell_type": "code",
   "execution_count": 9,
   "id": "46d3d4ab",
   "metadata": {},
   "outputs": [],
   "source": [
    "import pandas as pd\n",
    "import numpy as np\n",
    "import seaborn as sns\n",
    "import matplotlib.pyplot as plt\n",
    "from sklearn.datasets import make_blobs"
   ]
  },
  {
   "cell_type": "code",
   "execution_count": 10,
   "id": "6ae5012a",
   "metadata": {},
   "outputs": [],
   "source": [
    "X,y = make_blobs(n_samples=1000 , centers=3 , n_features=2 , random_state=42)"
   ]
  },
  {
   "cell_type": "code",
   "execution_count": 13,
   "id": "a2a11e0b",
   "metadata": {},
   "outputs": [
    {
     "data": {
      "text/plain": [
       "(1000, 2)"
      ]
     },
     "execution_count": 13,
     "metadata": {},
     "output_type": "execute_result"
    }
   ],
   "source": [
    "X.shape\n"
   ]
  },
  {
   "cell_type": "code",
   "execution_count": 14,
   "id": "3e5b8159",
   "metadata": {},
   "outputs": [
    {
     "data": {
      "text/plain": [
       "<matplotlib.collections.PathCollection at 0x2b36344bc50>"
      ]
     },
     "execution_count": 14,
     "metadata": {},
     "output_type": "execute_result"
    },
    {
     "data": {
      "image/png": "[encoded data removed]",
      "text/plain": [
       "<Figure size 640x480 with 1 Axes>"
      ]
     },
     "metadata": {},
     "output_type": "display_data"
    }
   ],
   "source": [
    "plt.scatter(X[:,0],X[:,1])"
   ]
  },
  {
   "cell_type": "code",
   "execution_count": 16,
   "id": "98ba37d0",
   "metadata": {},
   "outputs": [],
   "source": [
    "from sklearn.model_selection import train_test_split"
   ]
  },
  {
   "cell_type": "code",
   "execution_count": 17,
   "id": "388376b1",
   "metadata": {},
   "outputs": [],
   "source": [
    "x_train , x_test , y_train , y_test = train_test_split(X, y , test_size=0.2 , random_state=42 )"
   ]
  },
  {
   "cell_type": "code",
   "execution_count": 19,
   "id": "06af1478",
   "metadata": {},
   "outputs": [],
   "source": [
    "#manual process\n",
    "#elbow method\n",
    "\n",
    "wcss = []\n",
    "\n",
    "for k in range (1, 11):\n",
    "    kmeans = KMeans(n_clusters=k , init=\"k-means++\")\n",
    "    kmeans.fit(x_train)\n",
    "    wcss.append(kmeans.inertia_)\n"
   ]
  },
  {
   "cell_type": "code",
   "execution_count": 20,
   "id": "4a89e210",
   "metadata": {},
   "outputs": [
    {
     "data": {
      "text/plain": [
       "[52946.11684919716,\n",
       " 15369.674523316207,\n",
       " 1599.7085950090782,\n",
       " 1429.7550212507606,\n",
       " 1219.861280376302,\n",
       " 1123.7989389996687,\n",
       " 940.0990826284872,\n",
       " 956.6767988648744,\n",
       " 773.9257844893116,\n",
       " 669.7014674508385]"
      ]
     },
     "execution_count": 20,
     "metadata": {},
     "output_type": "execute_result"
    }
   ],
   "source": [
    "wcss"
   ]
  },
  {
   "cell_type": "code",
   "execution_count": 21,
   "id": "c52d596a",
   "metadata": {},
   "outputs": [
    {
     "data": {
      "text/plain": [
       "Text(0, 0.5, 'WCSS')"
      ]
     },
     "execution_count": 21,
     "metadata": {},
     "output_type": "execute_result"
    },
    {
     "data": {
      "image/png": "[encoded data removed]",
      "text/plain": [
       "<Figure size 640x480 with 1 Axes>"
      ]
     },
     "metadata": {},
     "output_type": "display_data"
    }
   ],
   "source": [
    "#plot elbow curve\n",
    "plt.plot(range(1, 11) , wcss)\n",
    "plt.xticks(range(1,11))\n",
    "plt.xlabel(\"Number of Cluster\")\n",
    "plt.ylabel(\"WCSS\")\n"
   ]
  },
  {
   "cell_type": "code",
   "execution_count": 22,
   "id": "8599731a",
   "metadata": {},
   "outputs": [
    {
     "data": {
      "text/plain": [
       "array([2, 0, 0, 1, 2, 0, 1, 2, 1, 2, 2, 1, 2, 2, 2, 0, 0, 1, 0, 0, 0, 2,\n",
       "       2, 1, 1, 1, 0, 2, 1, 2, 0, 1, 1, 0, 1, 1, 1, 0, 2, 1, 2, 0, 0, 1,\n",
       "       2, 0, 1, 1, 2, 0, 1, 2, 2, 1, 0, 0, 2, 2, 0, 1, 1, 2, 0, 1, 0, 2,\n",
       "       2, 0, 0, 2, 2, 0, 0, 0, 1, 0, 0, 0, 0, 1, 2, 0, 0, 1, 0, 0, 1, 0,\n",
       "       0, 1, 0, 0, 2, 0, 0, 0, 1, 2, 0, 1, 2, 2, 0, 2, 0, 0, 2, 2, 0, 1,\n",
       "       1, 1, 2, 0, 1, 0, 2, 2, 1, 0, 1, 0, 2, 1, 1, 2, 2, 2, 0, 0, 1, 1,\n",
       "       0, 0, 2, 0, 2, 2, 2, 1, 2, 2, 1, 1, 0, 0, 2, 0, 0, 0, 1, 2, 0, 1,\n",
       "       2, 2, 0, 0, 1, 1, 1, 2, 0, 1, 2, 0, 0, 2, 0, 0, 1, 2, 0, 1, 1, 1,\n",
       "       2, 1, 0, 1, 2, 1, 0, 1, 1, 1, 2, 1, 1, 0, 2, 2, 2, 0, 1, 2, 0, 2,\n",
       "       0, 2], dtype=int32)"
      ]
     },
     "execution_count": 22,
     "metadata": {},
     "output_type": "execute_result"
    }
   ],
   "source": [
    "kmeans = KMeans(n_clusters=3 , init=\"k-means++\")\n",
    "kmeans.fit_predict(x_test)\n"
   ]
  },
  {
   "cell_type": "code",
   "execution_count": 30,
   "id": "95f52700",
   "metadata": {},
   "outputs": [],
   "source": [
    "from kneed import KneeLocator"
   ]
  },
  {
   "cell_type": "code",
   "execution_count": 32,
   "id": "68c44f96",
   "metadata": {},
   "outputs": [
    {
     "data": {
      "text/plain": [
       "np.int64(3)"
      ]
     },
     "execution_count": 32,
     "metadata": {},
     "output_type": "execute_result"
    }
   ],
   "source": [
    "k = KneeLocator(range(1,11) , wcss , curve=\"convex\" , direction=\"decreasing\")\n",
    "k.elbow\n"
   ]
  },
  {
   "cell_type": "code",
   "execution_count": null,
   "id": "a8e12a0e",
   "metadata": {},
   "outputs": [],
   "source": []
  }
 ],
 "metadata": {
  "kernelspec": {
   "display_name": "Python 3",
   "language": "python",
   "name": "python3"
  },
  "language_info": {
   "codemirror_mode": {
    "name": "ipython",
    "version": 3
   },
   "file_extension": ".py",
   "mimetype": "text/x-python",
   "name": "python",
   "nbconvert_exporter": "python",
   "pygments_lexer": "ipython3",
   "version": "3.13.2"
  }
 },
 "nbformat": 4,
 "nbformat_minor": 5
}
